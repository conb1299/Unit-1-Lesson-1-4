{
 "cells": [
  {
   "cell_type": "markdown",
   "metadata": {},
   "source": [
    "1. The first thing I would do in this situation was look at the conversion rate of the three products. Whichever product had the highest rate of advertisement being converted into a sale would make sense to feature in the new advertising campaign. The only way I would feature one of the other two products is if one product had a signficantly larger number of sales, activity, and page views despite a lower conversion rate. Except for this unique scenario I would most likely choose the product with the highest conversion rate.\n",
    "\n",
    "2. For this problem I would look at the timestamps and try and determine the time in which most users are abandoning the process. If most users created a username but did not pick a plan I think it would be prudent to look at plan offerings and try and make changes to make them more desirable. If most users picked a plan but then left when seeing pricing, it would make sense to look to adjust prices. We could also look at the marketing data available. If many users abandonded the program during weeks with low marketing it would make sense to increase marketing.\n",
    "\n",
    "3. We would need to change the system to only show available hotels first. If we are only sorting hotels by price but they are unavailable then they serve no purpose to the potential customer. We could look at session time and see how much time was spent on the site when the first results showed a hotel that was fully booked. Assuming this session time was short we can adjust our algorithm to show hotels by lowest price AND availability. \n",
    "\n",
    "4. I would look at the data in the from the last three years and see if we can determine any sorts of patterns. For instance is there a specific month in each year where users tend to log in more or less and stay on the site for more or less time than usual. Next we can see if we can spot any trends in the data. Perhaps users has been steadily increasing or decrasing for some time now or perhaps spending more or less time on the site in a discernable direction. By determining patterns and trends we would be able to see if the problem is something temporary that is experienced yearly or a trend that needs to be addressed. "
   ]
  }
 ],
 "metadata": {
  "kernelspec": {
   "display_name": "Python 3",
   "language": "python",
   "name": "python3"
  },
  "language_info": {
   "codemirror_mode": {
    "name": "ipython",
    "version": 3
   },
   "file_extension": ".py",
   "mimetype": "text/x-python",
   "name": "python",
   "nbconvert_exporter": "python",
   "pygments_lexer": "ipython3",
   "version": "3.6.1"
  }
 },
 "nbformat": 4,
 "nbformat_minor": 2
}
